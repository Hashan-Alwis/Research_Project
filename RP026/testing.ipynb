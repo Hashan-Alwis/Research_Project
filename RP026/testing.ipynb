{
 "cells": [
  {
   "cell_type": "code",
   "execution_count": 2,
   "id": "d6210f90",
   "metadata": {},
   "outputs": [],
   "source": [
    "import pandas as pd\n",
    "import numpy as np\n",
    "import os\n",
    "import seaborn as sns\n",
    "import matplotlib.pyplot as plt\n",
    "import librosa\n",
    "import librosa.display\n",
    "from IPython.display import Audio\n",
    "from pydub import AudioSegment\n",
    "import warnings\n",
    "warnings.filterwarnings('ignore')\n",
    "import joblib"
   ]
  },
  {
   "cell_type": "code",
   "execution_count": 3,
   "id": "a1187e04",
   "metadata": {},
   "outputs": [],
   "source": [
    "import keras_tuner as kt\n",
    "from tensorflow.keras.models import load_model"
   ]
  },
  {
   "cell_type": "code",
   "execution_count": 15,
   "id": "99583aab",
   "metadata": {},
   "outputs": [
    {
     "name": "stderr",
     "output_type": "stream",
     "text": [
      "WARNING:absl:Compiled the loaded model, but the compiled metrics have yet to be built. `model.compile_metrics` will be empty until you train or evaluate the model.\n"
     ]
    }
   ],
   "source": [
    "final_model = load_model(\"final_best_model.h5\")"
   ]
  },
  {
   "cell_type": "code",
   "execution_count": 16,
   "id": "8fb7db43",
   "metadata": {},
   "outputs": [],
   "source": [
    "def extract_audio_features(filename):\n",
    "    y, sr = librosa.load(filename, duration=3, offset=0.5)\n",
    "    mfcc = np.mean(librosa.feature.mfcc(y=y, sr=sr, n_mfcc=40).T, axis=0)\n",
    "    out = [x for x in mfcc]\n",
    "    out = np.array(out)\n",
    "    out = out.reshape(1, 40, 1)\n",
    "\n",
    "    return out"
   ]
  },
  {
   "cell_type": "code",
   "execution_count": 17,
   "id": "58e6f4ac",
   "metadata": {},
   "outputs": [
    {
     "data": {
      "text/plain": [
       "'e:\\\\MR.Mind_Projects\\\\RP026\\\\updated'"
      ]
     },
     "execution_count": 17,
     "metadata": {},
     "output_type": "execute_result"
    }
   ],
   "source": [
    "pwd"
   ]
  },
  {
   "cell_type": "code",
   "execution_count": 59,
   "id": "c4106739",
   "metadata": {},
   "outputs": [],
   "source": [
    "audio_features = extract_audio_features(\"DATA_SET\\\\disgust\\\\Disgust 3.wav\")"
   ]
  },
  {
   "cell_type": "code",
   "execution_count": 60,
   "id": "3a6b32c5",
   "metadata": {},
   "outputs": [
    {
     "data": {
      "text/plain": [
       "(1, 40, 1)"
      ]
     },
     "execution_count": 60,
     "metadata": {},
     "output_type": "execute_result"
    }
   ],
   "source": [
    "audio_features.shape"
   ]
  },
  {
   "cell_type": "code",
   "execution_count": 61,
   "id": "2b7dce03",
   "metadata": {},
   "outputs": [
    {
     "name": "stdout",
     "output_type": "stream",
     "text": [
      "\u001b[1m1/1\u001b[0m \u001b[32m━━━━━━━━━━━━━━━━━━━━\u001b[0m\u001b[37m\u001b[0m \u001b[1m0s\u001b[0m 173ms/step\n"
     ]
    }
   ],
   "source": [
    "p = final_model.predict(audio_features)"
   ]
  },
  {
   "cell_type": "code",
   "execution_count": 62,
   "id": "8bd1eefb",
   "metadata": {},
   "outputs": [
    {
     "name": "stdout",
     "output_type": "stream",
     "text": [
      "0.99992347\n"
     ]
    }
   ],
   "source": [
    "print(p.max())"
   ]
  },
  {
   "cell_type": "code",
   "execution_count": 63,
   "id": "653f67ff",
   "metadata": {},
   "outputs": [
    {
     "data": {
      "text/plain": [
       "array([[0., 1., 0., 0., 0.]], dtype=float32)"
      ]
     },
     "execution_count": 63,
     "metadata": {},
     "output_type": "execute_result"
    }
   ],
   "source": [
    "p.round()"
   ]
  },
  {
   "cell_type": "code",
   "execution_count": 64,
   "id": "6b5f1c4c",
   "metadata": {},
   "outputs": [],
   "source": [
    "e = joblib.load('encoder.pkl')"
   ]
  },
  {
   "cell_type": "code",
   "execution_count": 65,
   "id": "e9ba67e9",
   "metadata": {},
   "outputs": [
    {
     "data": {
      "text/plain": [
       "array([[3.1911532e-05, 9.9992347e-01, 2.4160558e-05, 2.5831278e-06,\n",
       "        1.7778795e-05]], dtype=float32)"
      ]
     },
     "execution_count": 65,
     "metadata": {},
     "output_type": "execute_result"
    }
   ],
   "source": [
    "p"
   ]
  },
  {
   "cell_type": "code",
   "execution_count": 66,
   "id": "9f5655be",
   "metadata": {},
   "outputs": [
    {
     "data": {
      "text/plain": [
       "'disgust'"
      ]
     },
     "execution_count": 66,
     "metadata": {},
     "output_type": "execute_result"
    }
   ],
   "source": [
    "y_decoded = e.inverse_transform(p)\n",
    "y_decoded[0][0]"
   ]
  },
  {
   "cell_type": "code",
   "execution_count": 1,
   "id": "c38864b0",
   "metadata": {},
   "outputs": [],
   "source": [
    "from collections import Counter"
   ]
  },
  {
   "cell_type": "code",
   "execution_count": null,
   "id": "5358ec28",
   "metadata": {},
   "outputs": [],
   "source": [
    "all_predictions = ['anger', 'disgust', 'happy', 'noise', 'sad', 'happy', 'sad', 'anger', 'disgust', 'noise', 'happy', 'sad', 'anger']\n",
    "counts = Counter(all_predictions)"
   ]
  },
  {
   "cell_type": "code",
   "execution_count": 4,
   "id": "8bbfb2b8",
   "metadata": {},
   "outputs": [
    {
     "name": "stdout",
     "output_type": "stream",
     "text": [
      "Counter({'anger': 1, 'disgust': 1, 'happy': 1, 'noise': 1, 'sad': 1})\n"
     ]
    }
   ],
   "source": [
    "print(counts)"
   ]
  },
  {
   "cell_type": "code",
   "execution_count": null,
   "id": "bfed413b",
   "metadata": {},
   "outputs": [],
   "source": [
    "pred_dic = {'anger': 0, 'disgust': 0, 'happy': 0, 'noise': 0, 'sad': 0}"
   ]
  }
 ],
 "metadata": {
  "kernelspec": {
   "display_name": "Python 3",
   "language": "python",
   "name": "python3"
  },
  "language_info": {
   "codemirror_mode": {
    "name": "ipython",
    "version": 3
   },
   "file_extension": ".py",
   "mimetype": "text/x-python",
   "name": "python",
   "nbconvert_exporter": "python",
   "pygments_lexer": "ipython3",
   "version": "3.12.0"
  }
 },
 "nbformat": 4,
 "nbformat_minor": 5
}
