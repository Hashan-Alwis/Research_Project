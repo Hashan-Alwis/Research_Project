{
 "cells": [
  {
   "cell_type": "code",
   "execution_count": 1,
   "metadata": {},
   "outputs": [
    {
     "name": "stderr",
     "output_type": "stream",
     "text": [
      "e:\\MR.Mind_Projects\\RP023-01\\venv\\Lib\\site-packages\\tqdm\\auto.py:21: TqdmWarning: IProgress not found. Please update jupyter and ipywidgets. See https://ipywidgets.readthedocs.io/en/stable/user_install.html\n",
      "  from .autonotebook import tqdm as notebook_tqdm\n"
     ]
    }
   ],
   "source": [
    "from sentence_transformers import SentenceTransformer, util\n",
    "from sklearn.metrics.pairwise import cosine_similarity"
   ]
  },
  {
   "cell_type": "code",
   "execution_count": 3,
   "metadata": {},
   "outputs": [],
   "source": [
    "model = SentenceTransformer('all-MiniLM-L6-v2')"
   ]
  },
  {
   "cell_type": "code",
   "execution_count": 4,
   "metadata": {},
   "outputs": [],
   "source": [
    "model.save(\"saved_transformer_model\")"
   ]
  },
  {
   "cell_type": "code",
   "execution_count": null,
   "metadata": {},
   "outputs": [],
   "source": [
    "def sentence_similarity(sent1, sent2):\n",
    "    embeddings = model.encode([sent1, sent2])  # Convert sentences to embeddings\n",
    "    similarity = util.cos_sim(embeddings[0], embeddings[1]).item()  # Compute cosine similarity\n",
    "    percentage = round(similarity * 100, 2)  # Convert to percentage\n",
    "    return percentage"
   ]
  },
  {
   "cell_type": "code",
   "execution_count": 48,
   "metadata": {},
   "outputs": [],
   "source": [
    "correct_answers = [\n",
    "    \"  a distributed database, it is impossible to achieve Consistency, Availability, and Partition Tolerance simultaneously a system must choose two out of the three.\",\n",
    "    \" CAP theorem means a distributed database can only guarantee two of these consistency, availability, partition tolerance. Since networks fail, we choose consistency or availability.\",\n",
    "    \" CAP theorem is like a bank with two branches. We can't have all three  consistent balances at both branches, both always open, and working even if the phone line between them is down. We choose consistency or availability.\"\n",
    "]\n"
   ]
  },
  {
   "cell_type": "code",
   "execution_count": 49,
   "metadata": {},
   "outputs": [],
   "source": [
    "wrong_answers = [\n",
    "    \"distributed systems must always guarantee all three: Consistency, Availability, and Partition Tolerance.\",\n",
    "    \"CAP theorem is only applicable to relational databases and does not affect NoSQL databases.\",\n",
    "    \"If a system is partition-tolerant, it must sacrifice both consistency and availability.\"\n",
    "]\n"
   ]
  },
  {
   "cell_type": "code",
   "execution_count": 97,
   "metadata": {},
   "outputs": [
    {
     "name": "stdout",
     "output_type": "stream",
     "text": [
      "Similarity: 42.12%\n"
     ]
    }
   ],
   "source": [
    "similarity_score = sentence_similarity(correct_answers[0], correct_answers[2])\n",
    "print(f\"Similarity: {similarity_score}%\")"
   ]
  }
 ],
 "metadata": {
  "kernelspec": {
   "display_name": "Python 3",
   "language": "python",
   "name": "python3"
  },
  "language_info": {
   "codemirror_mode": {
    "name": "ipython",
    "version": 3
   },
   "file_extension": ".py",
   "mimetype": "text/x-python",
   "name": "python",
   "nbconvert_exporter": "python",
   "pygments_lexer": "ipython3",
   "version": "3.12.0"
  }
 },
 "nbformat": 4,
 "nbformat_minor": 2
}
