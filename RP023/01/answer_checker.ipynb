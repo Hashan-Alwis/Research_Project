{
 "cells": [
  {
   "cell_type": "code",
   "execution_count": 1,
   "metadata": {},
   "outputs": [
    {
     "name": "stderr",
     "output_type": "stream",
     "text": [
      "e:\\MR.Mind_Projects\\RP023-01\\venv\\Lib\\site-packages\\tqdm\\auto.py:21: TqdmWarning: IProgress not found. Please update jupyter and ipywidgets. See https://ipywidgets.readthedocs.io/en/stable/user_install.html\n",
      "  from .autonotebook import tqdm as notebook_tqdm\n"
     ]
    }
   ],
   "source": [
    "from sentence_transformers import SentenceTransformer"
   ]
  },
  {
   "cell_type": "code",
   "execution_count": 2,
   "metadata": {},
   "outputs": [],
   "source": [
    "sentences = [\"This is an example sentence\", \"Each sentence is converted\"]"
   ]
  },
  {
   "cell_type": "code",
   "execution_count": 3,
   "metadata": {},
   "outputs": [
    {
     "name": "stderr",
     "output_type": "stream",
     "text": [
      "e:\\MR.Mind_Projects\\RP023-01\\venv\\Lib\\site-packages\\huggingface_hub\\file_download.py:142: UserWarning: `huggingface_hub` cache-system uses symlinks by default to efficiently store duplicated files but your machine does not support them in C:\\Users\\Hashan\\.cache\\huggingface\\hub\\models--sentence-transformers--bert-base-nli-mean-tokens. Caching files will still work but in a degraded version that might require more space on your disk. This warning can be disabled by setting the `HF_HUB_DISABLE_SYMLINKS_WARNING` environment variable. For more details, see https://huggingface.co/docs/huggingface_hub/how-to-cache#limitations.\n",
      "To support symlinks on Windows, you either need to activate Developer Mode or to run Python as an administrator. In order to activate developer mode, see this article: https://docs.microsoft.com/en-us/windows/apps/get-started/enable-your-device-for-development\n",
      "  warnings.warn(message)\n"
     ]
    }
   ],
   "source": [
    "model = SentenceTransformer('sentence-transformers/bert-base-nli-mean-tokens')"
   ]
  },
  {
   "cell_type": "code",
   "execution_count": 4,
   "metadata": {},
   "outputs": [],
   "source": [
    "sentence_vec = model.encode(sentences)"
   ]
  },
  {
   "cell_type": "code",
   "execution_count": 5,
   "metadata": {},
   "outputs": [
    {
     "data": {
      "text/plain": [
       "(2, 768)"
      ]
     },
     "execution_count": 5,
     "metadata": {},
     "output_type": "execute_result"
    }
   ],
   "source": [
    "sentence_vec.shape"
   ]
  },
  {
   "cell_type": "code",
   "execution_count": 2,
   "metadata": {},
   "outputs": [],
   "source": [
    "from sklearn.metrics.pairwise import cosine_similarity"
   ]
  },
  {
   "cell_type": "code",
   "execution_count": 7,
   "metadata": {},
   "outputs": [
    {
     "data": {
      "text/plain": [
       "array([[0.5783693]], dtype=float32)"
      ]
     },
     "execution_count": 7,
     "metadata": {},
     "output_type": "execute_result"
    }
   ],
   "source": [
    "cosine_similarity(\n",
    "    [sentence_vec[0]],\n",
    "    [sentence_vec[1]]\n",
    ")"
   ]
  },
  {
   "cell_type": "code",
   "execution_count": 3,
   "metadata": {},
   "outputs": [],
   "source": [
    "model = SentenceTransformer('all-MiniLM-L6-v2')"
   ]
  },
  {
   "cell_type": "code",
   "execution_count": 27,
   "metadata": {},
   "outputs": [],
   "source": [
    "from sentence_transformers import SentenceTransformer, util\n",
    "\n",
    "def sentence_similarity(sent1, sent2):\n",
    "    # model = model  # Load a pre-trained model\n",
    "    embeddings = model.encode([sent1, sent2])  # Convert sentences to embeddings\n",
    "    similarity = util.cos_sim(embeddings[0], embeddings[1]).item()  # Compute cosine similarity\n",
    "    percentage = round(similarity * 100, 2)  # Convert to percentage\n",
    "    return percentage\n",
    "\n",
    "# Example usage:\n",
    "# sentence1 = \"Machine learning is amazing.\"\n",
    "# sentence2 = \"I love studying artificial intelligence.\"\n",
    "# similarity_score = sentence_similarity(sentence1, sentence2)\n",
    "# print(f\"Similarity: {similarity_score}%\")\n"
   ]
  },
  {
   "cell_type": "code",
   "execution_count": null,
   "metadata": {},
   "outputs": [],
   "source": [
    "correct_answers = [\n",
    "    \" a block of reusable code that performs a specific task and can be called multiple times in a program\",\n",
    "    \" a set of instructions that takes input, processes it, and returns an output or performs an action\",\n",
    "    \" a named section of a program that can be executed when needed to avoid code repetition\"\n",
    "]\n"
   ]
  },
  {
   "cell_type": "code",
   "execution_count": null,
   "metadata": {},
   "outputs": [],
   "source": [
    "wrong_answers = [\n",
    "    \"a fixed value that cannot be changed in a program\",\n",
    "    \"a function that performs a specific task in a program\",\n",
    "    \"i want to go home , tommorrow is my birthday \"\n",
    "]\n"
   ]
  },
  {
   "cell_type": "code",
   "execution_count": null,
   "metadata": {},
   "outputs": [],
   "source": []
  },
  {
   "cell_type": "code",
   "execution_count": 66,
   "metadata": {},
   "outputs": [
    {
     "name": "stdout",
     "output_type": "stream",
     "text": [
      "Similarity: 43.6%\n"
     ]
    }
   ],
   "source": [
    "similarity_score = sentence_similarity(correct_answers[0], wrong_answers[0])\n",
    "print(f\"Similarity: {similarity_score}%\")"
   ]
  },
  {
   "cell_type": "code",
   "execution_count": 33,
   "metadata": {},
   "outputs": [
    {
     "name": "stdout",
     "output_type": "stream",
     "text": [
      "User Answer: Lists can be changed after creation, but tuples cannot.\n",
      "Similarity Score: 0.70\n",
      "\n",
      "User Answer: Tuples are faster than lists because they are immutable.\n",
      "Similarity Score: 0.84\n",
      "\n",
      "User Answer: Lists and tuples work exactly the same way in Python.\n",
      "Similarity Score: 0.70\n",
      "\n"
     ]
    }
   ],
   "source": [
    "from sentence_transformers import SentenceTransformer, util\n",
    "\n",
    "# Load the model\n",
    "# model = SentenceTransformer('all-MiniLM-L6-v2')  # Efficient & accurate model\n",
    "\n",
    "def get_similarity(answer1, answer2):\n",
    "    # Convert sentences to embeddings\n",
    "    embedding1 = model.encode(answer1, convert_to_tensor=True)\n",
    "    embedding2 = model.encode(answer2, convert_to_tensor=True)\n",
    "\n",
    "    # Compute cosine similarity\n",
    "    similarity = util.pytorch_cos_sim(embedding1, embedding2)\n",
    "    return similarity.item()  # Convert to float value\n",
    "\n",
    "# Example correct answer\n",
    "correct_answer = \"Lists are mutable, while tuples are immutable.\"\n",
    "\n",
    "# Example user answers\n",
    "user_answers = [\n",
    "    \"Lists can be changed after creation, but tuples cannot.\",  # Similar meaning ✅\n",
    "    \"Tuples are faster than lists because they are immutable.\",  # Partial meaning 🤔\n",
    "    \"Lists and tuples work exactly the same way in Python.\"  # Wrong meaning ❌\n",
    "]\n",
    "\n",
    "# Compute similarities\n",
    "for user_answer in user_answers:\n",
    "    score = get_similarity(correct_answer, user_answer)\n",
    "    print(f\"User Answer: {user_answer}\\nSimilarity Score: {score:.2f}\\n\")\n"
   ]
  },
  {
   "cell_type": "code",
   "execution_count": 23,
   "metadata": {},
   "outputs": [
    {
     "name": "stderr",
     "output_type": "stream",
     "text": [
      "e:\\MR.Mind_Projects\\RP023-01\\venv\\Lib\\site-packages\\huggingface_hub\\file_download.py:142: UserWarning: `huggingface_hub` cache-system uses symlinks by default to efficiently store duplicated files but your machine does not support them in C:\\Users\\Hashan\\.cache\\huggingface\\hub\\models--sentence-transformers--paraphrase-MiniLM-L6-v2. Caching files will still work but in a degraded version that might require more space on your disk. This warning can be disabled by setting the `HF_HUB_DISABLE_SYMLINKS_WARNING` environment variable. For more details, see https://huggingface.co/docs/huggingface_hub/how-to-cache#limitations.\n",
      "To support symlinks on Windows, you either need to activate Developer Mode or to run Python as an administrator. In order to activate developer mode, see this article: https://docs.microsoft.com/en-us/windows/apps/get-started/enable-your-device-for-development\n",
      "  warnings.warn(message)\n"
     ]
    }
   ],
   "source": [
    "model = SentenceTransformer('paraphrase-MiniLM-L6-v2')"
   ]
  },
  {
   "cell_type": "code",
   "execution_count": 26,
   "metadata": {},
   "outputs": [
    {
     "name": "stdout",
     "output_type": "stream",
     "text": [
      "{'Answer 1 & Answer 2': np.float32(0.66606635), 'Answer 1 & Answer 3': np.float32(0.7623371), 'Answer 2 & Answer 3': np.float32(0.7216314), 'Answer 1 & wrong answer 1': np.float32(0.75296956), 'Answer 1 & wrong answer 2 ': np.float32(-0.029877663), 'Answer 2 & wrong answer 3': np.float32(-0.015218554)}\n"
     ]
    }
   ],
   "source": [
    "from sentence_transformers import SentenceTransformer\n",
    "from sklearn.metrics.pairwise import cosine_similarity\n",
    "\n",
    "# List of correct answers\n",
    "correct_answers = [\n",
    "    \"A function is a block of reusable code that performs a specific task and can be called multiple times in a program\",\n",
    "    \"A function is a set of instructions that takes input, processes it, and returns an output or performs an action\",\n",
    "    \"A function is a named section of a program that can be executed when needed to avoid code repetition\"\n",
    "    \"A function is a variable that stores data in a program\",\n",
    "    \"A function is a type of loop that repeats a block of code\",\n",
    "    \"i want to go home , tommorrow is my birthday \"    \n",
    "]\n",
    "\n",
    "# Load a pre-trained model for semantic similarity\n",
    "\n",
    "\n",
    "# Compute sentence embeddings\n",
    "embeddings = model.encode(correct_answers)\n",
    "\n",
    "# Compute cosine similarity between embeddings\n",
    "similarity_matrix = cosine_similarity(embeddings)\n",
    "\n",
    "# Extract pairwise similarity scores\n",
    "similarity_scores = {\n",
    "    \"Answer 1 & Answer 2\": similarity_matrix[0, 1],\n",
    "    \"Answer 1 & Answer 3\": similarity_matrix[0, 2],\n",
    "    \"Answer 2 & Answer 3\": similarity_matrix[1, 2],\n",
    "    \"Answer 1 & wrong answer 1\": similarity_matrix[0, 3],\n",
    "    \"Answer 1 & wrong answer 2 \": similarity_matrix[0, 4],\n",
    "    \"Answer 2 & wrong answer 3\": similarity_matrix[1, 4]\n",
    "}\n",
    "\n",
    "print(similarity_scores)\n"
   ]
  }
 ],
 "metadata": {
  "kernelspec": {
   "display_name": "Python 3",
   "language": "python",
   "name": "python3"
  },
  "language_info": {
   "codemirror_mode": {
    "name": "ipython",
    "version": 3
   },
   "file_extension": ".py",
   "mimetype": "text/x-python",
   "name": "python",
   "nbconvert_exporter": "python",
   "pygments_lexer": "ipython3",
   "version": "3.12.0"
  }
 },
 "nbformat": 4,
 "nbformat_minor": 2
}
